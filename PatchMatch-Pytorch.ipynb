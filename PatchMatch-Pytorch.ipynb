{
 "cells": [
  {
   "cell_type": "code",
   "execution_count": 232,
   "metadata": {},
   "outputs": [],
   "source": [
    "import torch\n",
    "import torch.nn.functional as F\n",
    "from torch.autograd import Variable\n",
    "import numpy as np\n",
    "import matplotlib.pyplot as plt\n",
    "import os\n",
    "%matplotlib inline"
   ]
  },
  {
   "cell_type": "code",
   "execution_count": 233,
   "metadata": {},
   "outputs": [],
   "source": [
    "config = {}\n",
    "config['patch_size'] = 3\n",
    "config['number_of_patches_per_zone'] = 1\n",
    "config['n_iter'] = 1"
   ]
  },
  {
   "cell_type": "markdown",
   "metadata": {},
   "source": [
    "## Utils"
   ]
  },
  {
   "cell_type": "code",
   "execution_count": 234,
   "metadata": {},
   "outputs": [],
   "source": [
    "def Patch(image, i, j, m):\n",
    "    \"\"\" Returns a m x m patch taken from Image, centered at coordinates i,j \"\"\"\n",
    "    patch = image[:, :, i-m:i+m+1, j-m:j+m+1]\n",
    "    return patch"
   ]
  },
  {
   "cell_type": "code",
   "execution_count": 235,
   "metadata": {},
   "outputs": [],
   "source": [
    "def valid(coord, coord_limit, m):\n",
    "    \"\"\" Makes sure the coordinates lie in a valid range (m corrects for the zero-padding) \"\"\"\n",
    "    coord = max(coord, m)\n",
    "    coord = min(coord, coord_limit + m - 1)\n",
    "    \n",
    "    return coord"
   ]
  },
  {
   "cell_type": "code",
   "execution_count": 236,
   "metadata": {},
   "outputs": [],
   "source": [
    "def warp(B, NNF_ab):\n",
    "    \"\"\" Warp exprimes the content of image A but only with pixels sampled from image B \"\"\"\n",
    "    Warp = im2[:, NNF_ab[0,:,:], NNF_ab[1,:,:]]\n",
    "    \n",
    "    return Warp"
   ]
  },
  {
   "cell_type": "markdown",
   "metadata": {},
   "source": [
    "## Similarity Metric"
   ]
  },
  {
   "cell_type": "code",
   "execution_count": 237,
   "metadata": {},
   "outputs": [],
   "source": [
    "def EuclideanDistance(P1, P2):\n",
    "    \"\"\" Returns euclidean distance between two patches \"\"\"\n",
    "    distance = torch.rsqrt(torch.sum((P1.float() - P2.float()) ** 2))\n",
    "    return distance"
   ]
  },
  {
   "cell_type": "markdown",
   "metadata": {},
   "source": [
    "## PatchMatch"
   ]
  },
  {
   "cell_type": "code",
   "execution_count": 238,
   "metadata": {},
   "outputs": [],
   "source": [
    "def initializeNNF(h, w):\n",
    "    \"\"\" \n",
    "    Randomly initializes NNF_ab\n",
    "    - NNF_ab[:,i,j] is a 2D vector representing the coordinates x,y \n",
    "      so that B[0,:,x,y] is most similar to A[0,:,i,j] \n",
    "    \"\"\"\n",
    "    # Instanciates NNF_ab\n",
    "    NNF_ab = np.zeros(shape=(2,h,w), dtype=np.int)\n",
    "    \n",
    "    # Fill in NNF_ab[:,:,0] contains the coordinates x (row)\n",
    "    NNF_ab[0,:,:] = np.random.randint(low=0, high=h, size=(h,w))\n",
    "        \n",
    "    # Fill in NNF_ab[:,:,1] contains the coordinates y (column)\n",
    "    NNF_ab[1,:,:] = np.random.randint(low=0, high=w, size=(h,w))\n",
    "    \n",
    "    # Turns it into an autograd.Variable and send it on the GPU\n",
    "    if torch.cuda.is_available() and False:\n",
    "        NNF_ab = Variable(torch.from_numpy(NNF_ab)).cuda()\n",
    "    else:\n",
    "        NNF_ab = Variable(torch.from_numpy(NNF_ab))\n",
    "    \n",
    "    return NNF_ab"
   ]
  },
  {
   "cell_type": "code",
   "execution_count": 239,
   "metadata": {},
   "outputs": [],
   "source": [
    "def propagate(A, B, h, w, NNF_ab, i, j, shift):\n",
    "    # Patch half-size\n",
    "    m = int((config['patch_size'] - 1) / 2)\n",
    "\n",
    "    # Extract the patch at coordinates i,j in A\n",
    "    A_patch = Patch(A,i,j,m)\n",
    "\n",
    "    # Extract the patch-match in B associated with current position, left neighbor and up neighbor in A\n",
    "    A_current_patchMatch = Patch(B, NNF_ab[0,i,j], NNF_ab[1,i,j], m)\n",
    "    A_leftNeighbor_patchMatch = Patch(B, NNF_ab[0,valid(i+shift,h,m),j], NNF_ab[1,valid(i+shift,h,m),j], m)\n",
    "    A_upNeighbor_patchMatch = Patch(B, NNF_ab[0,i,valid(j+shift,w,m)], NNF_ab[1,i,valid(j+shift,w,m)], m)\n",
    "\n",
    "    # Computes the distance between current patch and the three potential matches ()\n",
    "    current_match = EuclideanDistance(A_patch, A_current_patchMatch)\n",
    "    left_neighbor_match = EuclideanDistance(A_patch, A_leftNeighbor_patchMatch)\n",
    "    up_neighbor_match = EuclideanDistance(A_patch, A_upNeighbor_patchMatch)\n",
    "    \n",
    "    # Looks up which match is the best. If best match is current match, nothing is changed\n",
    "    best_match = np.argmin(np.array([current_match.data[0], left_neighbor_match.data[0], up_neighbor_match.data[0]]))\n",
    "\n",
    "\n",
    "    if best_match == 1:\n",
    "        # New patch-match in B is the same than for left-neighbor in A\n",
    "        NNF_ab[:,i,j] = NNF_ab[:,valid(i+shift,h,m),j]\n",
    "\n",
    "    if best_match == 2:\n",
    "        # New patch-match in B is the same than for up-neighbor in A\n",
    "        NNF_ab[:,i,j] = NNF_ab[:,i,valid(j+shift,w,m)]\n",
    "    \"\"\"\n",
    "    if best_match == 1:\n",
    "        # New patch-match in B based on left-neighbor's match\n",
    "        NNF_ab[0,i,j] = NNF_ab[0,i+shift,j]\n",
    "        NNF_ab[1,i,j] = valid(NNF_ab[1,i+shift,j]+1, w, m)\n",
    "\n",
    "    if best_match == 2:\n",
    "        # New patch-match in B based on up-neighbor's match\n",
    "        NNF_ab[0,i,j] = valid(NNF_ab[0,i,j+shift]+1, h, m)\n",
    "        NNF_ab[1,i,j] = NNF_ab[1,i,j+shift]\n",
    "    \"\"\"\n",
    "\n",
    "    return NNF_ab"
   ]
  },
  {
   "cell_type": "code",
   "execution_count": 240,
   "metadata": {},
   "outputs": [],
   "source": [
    "def randomSearch(A, B, h, w, NNF_ab, i, j):\n",
    "    # Patch half-size\n",
    "    m = int((config['patch_size'] - 1) / 2)\n",
    "\n",
    "    max_step = 5\n",
    "    while max_step < max(h,w):\n",
    "\n",
    "        for k in range(config['number_of_patches_per_zone']):\n",
    "            # The randomly sampled coordinates for the random patch-match\n",
    "            [x, y] = NNF_ab[:,i,j].numpy() + np.random.randint(low=-max_step, high=max_step, size=(2,))\n",
    "\n",
    "            # Makes sure that those coordinates lie within the limits of our image\n",
    "            x = valid(x, h, m)\n",
    "            y = valid(y, w, m)\n",
    "\n",
    "            # Extract the patch around our current position in A\n",
    "            A_patch = Patch(A,i,j,m)\n",
    "\n",
    "            # Extract current patch-match and random patch-match in B\n",
    "            A_current_patchMatch = Patch(B, NNF_ab[0,i,j], NNF_ab[1,i,j], m)\n",
    "            A_random_patchMatch = Patch(B, x, y, m)\n",
    "\n",
    "            # Computes how good both matches are\n",
    "            current_match = EuclideanDistance(A_patch, A_current_patchMatch)\n",
    "            random_match = EuclideanDistance(A_patch, A_random_patchMatch)\n",
    "\n",
    "            # Looks up which match is the best. If best match is current match, nothing is changed\n",
    "            best_match = np.argmin(np.array([current_match.data[0], random_match.data[0]]))\n",
    "\n",
    "            if best_match == 1:\n",
    "                NNF_ab[:,i,j] = torch.from_numpy(np.array([x,y]))\n",
    "\n",
    "            max_step *= 3\n",
    "                    \n",
    "    return NNF_ab"
   ]
  },
  {
   "cell_type": "code",
   "execution_count": 241,
   "metadata": {},
   "outputs": [],
   "source": [
    "def PatchMatch(image1, image2):\n",
    "    \"\"\"\n",
    "    Computes the NNF function between image1 and image 2\n",
    "    image 1 : an autograd.Variable of shape [batch, channels, heigth, width]\n",
    "    image 2 : an autograd.Variable of shape [batch, channels, heigth, width]\n",
    "    \"\"\"\n",
    "    \n",
    "    # Makes sure the two images have the same size\n",
    "    if image1.size() != image2.size():\n",
    "        raise ValueError(\"The two images must have the same size.\")\n",
    "    \n",
    "    # Heigth and Width of images\n",
    "    [h,w] = image1.size()[2:]\n",
    "     \n",
    "    # Patch half-size\n",
    "    m = int((config['patch_size'] - 1) / 2)\n",
    "    \n",
    "    # Randomly initializes NNF_ab\n",
    "    NNF_ab = initializeNNF(h,w)\n",
    "    \n",
    "    # Zero-Pad images\n",
    "    A = F.pad(image1, (m,m,m,m), mode='constant', value=0)\n",
    "    B = F.pad(image2, (m,m,m,m), mode='constant', value=0)\n",
    "    \n",
    "    # Zero-Pad NNF_ab so its coordinate system as well as the values it contains remains consistent with images A and B\n",
    "    NNF_ab += m\n",
    "    NNF_ab = torch.squeeze(F.pad(NNF_ab.unsqueeze(0), (m,m,m,m), mode='constant', value=0)).data\n",
    "    \n",
    "    # Defines valid ranges (exclude the padded indexes)\n",
    "    i_range = np.arange(h) + m\n",
    "    j_range = np.arange(w) + m\n",
    "    \n",
    "    # Executes the PatchMatch algorithm n_iter times\n",
    "    for step in range(config['n_iter']):\n",
    "        print(\"Iteration {0} -----\".format(step+1))\n",
    "        if step%2 == 0:\n",
    "            shift = 1\n",
    "        else:\n",
    "            shift = -1\n",
    "        \n",
    "        # For every valid pixel in the image\n",
    "        for i in i_range:\n",
    "            if (i+1)%100 == 0 : print(\"Row : {0}\".format(i+1))\n",
    "            for j in j_range:\n",
    "                NNF_ab = propagate(A, B, h, w, NNF_ab, i, j, shift)\n",
    "                NNF_ab = randomSearch(A, B, h, w, NNF_ab, i, j)\n",
    "    \n",
    "    NNF_final = NNF_ab[:, m:-m, m:-m]\n",
    "    NNF_final -= m\n",
    "    \n",
    "    print(\"Done!\")\n",
    "    \n",
    "    return NNF_final"
   ]
  },
  {
   "cell_type": "markdown",
   "metadata": {},
   "source": [
    "## Demonstration"
   ]
  },
  {
   "cell_type": "code",
   "execution_count": 242,
   "metadata": {},
   "outputs": [
    {
     "name": "stdout",
     "output_type": "stream",
     "text": [
      "Images on CPU\n",
      "Iteration 1 -----\n",
      "Row : 100\n",
      "Row : 200\n",
      "Row : 300\n",
      "Row : 400\n",
      "Done!\n",
      " "
     ]
    }
   ],
   "source": [
    "# Load the images\n",
    "im1 = plt.imread(os.path.join(\"Images\", \"Image1.jpg\"))\n",
    "im2 = plt.imread(os.path.join(\"Images\", \"Image2.jpg\"))\n",
    "\n",
    "# Chagne images shape from [heigth, width, channels] to [channels, heigth, width]\n",
    "imgs = [np.transpose(im1, axes=(2,0,1)), np.transpose(im2, axes=(2,0,1))]\n",
    "\n",
    "# Turns them into autograd.Variables and send them on GPU (if available) and add a batch dimension\n",
    "if torch.cuda.is_available() and False:\n",
    "    print(\"Images on GPU\")\n",
    "    imgs_torch = [Variable(torch.from_numpy(img).unsqueeze(0).cuda()) for img in imgs]\n",
    "else:\n",
    "    print(\"Images on CPU\")\n",
    "    imgs_torch = [Variable(torch.from_numpy(img).unsqueeze(0)) for img in imgs]\n",
    "\n",
    "# Runs the PatchMatch algorithm\n",
    "%prun NNF_ab = PatchMatch(imgs_torch[0], imgs_torch[1])"
   ]
  },
  {
   "cell_type": "code",
   "execution_count": null,
   "metadata": {},
   "outputs": [],
   "source": [
    "# Displays the original images and resulting Warp\n",
    "plt.figure(figsize=(16, 12))\n",
    "plt.subplot(131)\n",
    "plt.imshow(im1)\n",
    "plt.title(\"Image A\")\n",
    "plt.axis(\"off\")\n",
    "\n",
    "plt.subplot(132)\n",
    "plt.imshow(im2)\n",
    "plt.title(\"Image B\")\n",
    "plt.axis(\"off\")\n",
    "\n",
    "plt.subplot(133)\n",
    "plt.imshow(warp(im2, NNF))\n",
    "plt.title(\"Warp\")\n",
    "plt.axis(\"off\")\n",
    "plt.show()\n",
    "\n",
    "\n",
    "# Displays the NNF (mapping function)\n",
    "zer = np.zeros(shape=(NNF.shape[0], NNF.shape[1], 1), dtype=NNF.dtype)\n",
    "colorNNF = np.concatenate((np.expand_dims(NNF[:,:,0], 2), zer, np.expand_dims(NNF[:,:,1], 2)), axis=2)\n",
    "\n",
    "plt.imshow(colorNNF.astype(np.uint8))\n",
    "plt.title(\"NNF\")\n",
    "plt.axis(\"off\")\n",
    "plt.show()"
   ]
  },
  {
   "cell_type": "code",
   "execution_count": null,
   "metadata": {},
   "outputs": [],
   "source": []
  }
 ],
 "metadata": {
  "kernelspec": {
   "display_name": "Python 3",
   "language": "python",
   "name": "python3"
  },
  "language_info": {
   "codemirror_mode": {
    "name": "ipython",
    "version": 3
   },
   "file_extension": ".py",
   "mimetype": "text/x-python",
   "name": "python",
   "nbconvert_exporter": "python",
   "pygments_lexer": "ipython3",
   "version": "3.6.1"
  }
 },
 "nbformat": 4,
 "nbformat_minor": 2
}
